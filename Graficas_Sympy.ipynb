{
  "cells": [
    {
      "cell_type": "code",
      "execution_count": null,
      "id": "ea3c7cca",
      "metadata": {
        "id": "ea3c7cca"
      },
      "outputs": [],
      "source": [
        "from sympy import *#sympy es una libreria para matematicas simbolicas"
      ]
    },
    {
      "cell_type": "code",
      "execution_count": null,
      "id": "9a809e15",
      "metadata": {
        "id": "9a809e15"
      },
      "outputs": [],
      "source": [
        "x=symbols('x') #crea una variable x que se usara para operaciones"
      ]
    },
    {
      "cell_type": "code",
      "execution_count": null,
      "id": "f013e8e4",
      "metadata": {
        "id": "f013e8e4"
      },
      "outputs": [],
      "source": [
        "c1=plotting.plot(x*x)#utiliza plotting.plot para generar una grafica de x^2, el resultado se guarda en c1"
      ]
    },
    {
      "cell_type": "code",
      "execution_count": null,
      "id": "681a546b",
      "metadata": {
        "id": "681a546b"
      },
      "outputs": [],
      "source": [
        "cl=plotting.plot(x*x,show=False)#se generan dos graficos uno de x^2 y otro en x^3, en show=False nos dice que ambos graficos no se dmuetran de inmediato\n",
        "c2=plotting.plot(x**3,show=False)"
      ]
    },
    {
      "cell_type": "code",
      "execution_count": null,
      "id": "826d2156",
      "metadata": {
        "id": "826d2156"
      },
      "outputs": [],
      "source": [
        "c1 #Indica qué es y en qué espacio de memoria está"
      ]
    },
    {
      "cell_type": "code",
      "execution_count": null,
      "id": "c52a5b46",
      "metadata": {
        "id": "c52a5b46"
      },
      "outputs": [],
      "source": [
        "c1.append(c2[0]) #Anida las gráficas sin los ejes"
      ]
    },
    {
      "cell_type": "code",
      "execution_count": null,
      "id": "f23f0783",
      "metadata": {
        "id": "f23f0783"
      },
      "outputs": [],
      "source": [
        "c1#muestra el contenido de la grafica de x2 junto con la de x3 de c2"
      ]
    },
    {
      "cell_type": "code",
      "execution_count": null,
      "id": "c13d8b05",
      "metadata": {
        "id": "c13d8b05"
      },
      "outputs": [],
      "source": [
        "c1.show()#muestra el grafico combinado"
      ]
    },
    {
      "cell_type": "code",
      "execution_count": null,
      "id": "135bfd2d",
      "metadata": {
        "id": "135bfd2d"
      },
      "outputs": [],
      "source": [
        "c1.extend(c2)#se añaden los elementos de c2 a c1, lo que hace que ambos graficos esten en el mismo objet"
      ]
    },
    {
      "cell_type": "code",
      "execution_count": null,
      "id": "56418d41",
      "metadata": {
        "id": "56418d41"
      },
      "outputs": [],
      "source": [
        "c1.show()#muestra los graficpos despues de haber extendido c1 con c2"
      ]
    },
    {
      "cell_type": "code",
      "execution_count": null,
      "id": "3a25a53b",
      "metadata": {
        "id": "3a25a53b"
      },
      "outputs": [],
      "source": [
        "c2.show()#muestra el grafico en c2"
      ]
    },
    {
      "cell_type": "code",
      "execution_count": null,
      "id": "ad2995f2",
      "metadata": {
        "id": "ad2995f2"
      },
      "outputs": [],
      "source": [
        "from sympy.plotting import plot #importa funcion plot desde sympy.plotting que se usa para generar graficos"
      ]
    },
    {
      "cell_type": "code",
      "execution_count": null,
      "id": "4d9c7160",
      "metadata": {
        "id": "4d9c7160"
      },
      "outputs": [],
      "source": [
        "plot(x**2) #dibuja el grafico de x2"
      ]
    },
    {
      "cell_type": "code",
      "execution_count": null,
      "id": "cac91b1d",
      "metadata": {
        "id": "cac91b1d"
      },
      "outputs": [],
      "source": [
        "plot(x**2,(x,-1,1)) #grafica x2 en el intervalo indicado"
      ]
    },
    {
      "cell_type": "code",
      "execution_count": null,
      "id": "12aaf4ee",
      "metadata": {
        "id": "12aaf4ee"
      },
      "outputs": [],
      "source": [
        "plot(exp(x))\n",
        "#plot(exp(x),(x,0,2)) #grafica ex en el intervalo indicado en el comentario"
      ]
    },
    {
      "cell_type": "code",
      "execution_count": null,
      "id": "a679a5ba",
      "metadata": {
        "id": "a679a5ba"
      },
      "outputs": [],
      "source": [
        "plot(x,x**2,x**3, (x,-2,2)) #grafica las funciones x,x2,x3 en el intervalo indicado"
      ]
    },
    {
      "cell_type": "code",
      "execution_count": null,
      "id": "b2425f84",
      "metadata": {
        "id": "b2425f84"
      },
      "outputs": [],
      "source": [
        "plot(x**2,adaptative=False,nb_of_points=10) #grafica x2 utilizando un numero limitado de puntos(10) y sin adaptividad en el calculo"
      ]
    },
    {
      "cell_type": "markdown",
      "id": "9ce41f8e",
      "metadata": {
        "id": "9ce41f8e"
      },
      "source": [
        "### Curvas parametrizadas"
      ]
    },
    {
      "cell_type": "code",
      "execution_count": 2,
      "id": "9dcc8951",
      "metadata": {
        "id": "9dcc8951",
        "outputId": "ba1524b6-7126-4f44-ce2b-6b780d277ec8",
        "colab": {
          "base_uri": "https://localhost:8080/",
          "height": 287
        }
      },
      "outputs": [
        {
          "output_type": "error",
          "ename": "KeyboardInterrupt",
          "evalue": "",
          "traceback": [
            "\u001b[0;31m---------------------------------------------------------------------------\u001b[0m",
            "\u001b[0;31mKeyboardInterrupt\u001b[0m                         Traceback (most recent call last)",
            "\u001b[0;32m<ipython-input-2-8e726746ebae>\u001b[0m in \u001b[0;36m<cell line: 0>\u001b[0;34m()\u001b[0m\n\u001b[0;32m----> 1\u001b[0;31m \u001b[0;32mfrom\u001b[0m \u001b[0msympy\u001b[0m \u001b[0;32mimport\u001b[0m \u001b[0mplot_parametric\u001b[0m\u001b[0;34m\u001b[0m\u001b[0;34m\u001b[0m\u001b[0m\n\u001b[0m",
            "\u001b[0;32m/usr/local/lib/python3.11/dist-packages/sympy/__init__.py\u001b[0m in \u001b[0;36m<module>\u001b[0;34m\u001b[0m\n\u001b[1;32m     72\u001b[0m         assuming, Q, ask, register_handler, remove_handler, refine)\n\u001b[1;32m     73\u001b[0m \u001b[0;34m\u001b[0m\u001b[0m\n\u001b[0;32m---> 74\u001b[0;31m from .polys import (Poly, PurePoly, poly_from_expr, parallel_poly_from_expr,\n\u001b[0m\u001b[1;32m     75\u001b[0m         \u001b[0mdegree\u001b[0m\u001b[0;34m,\u001b[0m \u001b[0mtotal_degree\u001b[0m\u001b[0;34m,\u001b[0m \u001b[0mdegree_list\u001b[0m\u001b[0;34m,\u001b[0m \u001b[0mLC\u001b[0m\u001b[0;34m,\u001b[0m \u001b[0mLM\u001b[0m\u001b[0;34m,\u001b[0m \u001b[0mLT\u001b[0m\u001b[0;34m,\u001b[0m \u001b[0mpdiv\u001b[0m\u001b[0;34m,\u001b[0m \u001b[0mprem\u001b[0m\u001b[0;34m,\u001b[0m \u001b[0mpquo\u001b[0m\u001b[0;34m,\u001b[0m\u001b[0;34m\u001b[0m\u001b[0;34m\u001b[0m\u001b[0m\n\u001b[1;32m     76\u001b[0m         \u001b[0mpexquo\u001b[0m\u001b[0;34m,\u001b[0m \u001b[0mdiv\u001b[0m\u001b[0;34m,\u001b[0m \u001b[0mrem\u001b[0m\u001b[0;34m,\u001b[0m \u001b[0mquo\u001b[0m\u001b[0;34m,\u001b[0m \u001b[0mexquo\u001b[0m\u001b[0;34m,\u001b[0m \u001b[0mhalf_gcdex\u001b[0m\u001b[0;34m,\u001b[0m \u001b[0mgcdex\u001b[0m\u001b[0;34m,\u001b[0m \u001b[0minvert\u001b[0m\u001b[0;34m,\u001b[0m\u001b[0;34m\u001b[0m\u001b[0;34m\u001b[0m\u001b[0m\n",
            "\u001b[0;32m/usr/local/lib/python3.11/dist-packages/sympy/polys/__init__.py\u001b[0m in \u001b[0;36m<module>\u001b[0;34m\u001b[0m\n\u001b[1;32m     77\u001b[0m         GroebnerBasis, poly)\n\u001b[1;32m     78\u001b[0m \u001b[0;34m\u001b[0m\u001b[0m\n\u001b[0;32m---> 79\u001b[0;31m from .polyfuncs import (symmetrize, horner, interpolate,\n\u001b[0m\u001b[1;32m     80\u001b[0m         rational_interpolate, viete)\n\u001b[1;32m     81\u001b[0m \u001b[0;34m\u001b[0m\u001b[0m\n",
            "\u001b[0;32m/usr/local/lib/python3.11/dist-packages/sympy/polys/polyfuncs.py\u001b[0m in \u001b[0;36m<module>\u001b[0;34m\u001b[0m\n\u001b[1;32m      8\u001b[0m \u001b[0;32mfrom\u001b[0m \u001b[0msympy\u001b[0m\u001b[0;34m.\u001b[0m\u001b[0mpolys\u001b[0m\u001b[0;34m.\u001b[0m\u001b[0mpolyoptions\u001b[0m \u001b[0;32mimport\u001b[0m \u001b[0mallowed_flags\u001b[0m\u001b[0;34m,\u001b[0m \u001b[0mbuild_options\u001b[0m\u001b[0;34m\u001b[0m\u001b[0;34m\u001b[0m\u001b[0m\n\u001b[1;32m      9\u001b[0m \u001b[0;32mfrom\u001b[0m \u001b[0msympy\u001b[0m\u001b[0;34m.\u001b[0m\u001b[0mpolys\u001b[0m\u001b[0;34m.\u001b[0m\u001b[0mpolytools\u001b[0m \u001b[0;32mimport\u001b[0m \u001b[0mpoly_from_expr\u001b[0m\u001b[0;34m,\u001b[0m \u001b[0mPoly\u001b[0m\u001b[0;34m\u001b[0m\u001b[0;34m\u001b[0m\u001b[0m\n\u001b[0;32m---> 10\u001b[0;31m from sympy.polys.specialpolys import (\n\u001b[0m\u001b[1;32m     11\u001b[0m     symmetric_poly, interpolating_poly)\n\u001b[1;32m     12\u001b[0m \u001b[0;32mfrom\u001b[0m \u001b[0msympy\u001b[0m\u001b[0;34m.\u001b[0m\u001b[0mpolys\u001b[0m\u001b[0;34m.\u001b[0m\u001b[0mrings\u001b[0m \u001b[0;32mimport\u001b[0m \u001b[0msring\u001b[0m\u001b[0;34m\u001b[0m\u001b[0;34m\u001b[0m\u001b[0m\n",
            "\u001b[0;32m/usr/local/lib/python3.11/dist-packages/sympy/polys/specialpolys.py\u001b[0m in \u001b[0;36m<module>\u001b[0;34m\u001b[0m\n\u001b[1;32m    296\u001b[0m \u001b[0;31m# A few useful polynomials from Wang's paper ('78).\u001b[0m\u001b[0;34m\u001b[0m\u001b[0;34m\u001b[0m\u001b[0m\n\u001b[1;32m    297\u001b[0m \u001b[0;34m\u001b[0m\u001b[0m\n\u001b[0;32m--> 298\u001b[0;31m \u001b[0;32mfrom\u001b[0m \u001b[0msympy\u001b[0m\u001b[0;34m.\u001b[0m\u001b[0mpolys\u001b[0m\u001b[0;34m.\u001b[0m\u001b[0mrings\u001b[0m \u001b[0;32mimport\u001b[0m \u001b[0mring\u001b[0m\u001b[0;34m\u001b[0m\u001b[0;34m\u001b[0m\u001b[0m\n\u001b[0m\u001b[1;32m    299\u001b[0m \u001b[0;34m\u001b[0m\u001b[0m\n\u001b[1;32m    300\u001b[0m \u001b[0;32mdef\u001b[0m \u001b[0m_f_0\u001b[0m\u001b[0;34m(\u001b[0m\u001b[0;34m)\u001b[0m\u001b[0;34m:\u001b[0m\u001b[0;34m\u001b[0m\u001b[0;34m\u001b[0m\u001b[0m\n",
            "\u001b[0;32m/usr/local/lib/python3.11/dist-packages/sympy/polys/rings.py\u001b[0m in \u001b[0;36m<module>\u001b[0;34m\u001b[0m\n\u001b[1;32m     28\u001b[0m from sympy.polys.polyutils import (expr_from_dict, _dict_reorder,\n\u001b[1;32m     29\u001b[0m                                    _parallel_dict_from_expr)\n\u001b[0;32m---> 30\u001b[0;31m \u001b[0;32mfrom\u001b[0m \u001b[0msympy\u001b[0m\u001b[0;34m.\u001b[0m\u001b[0mprinting\u001b[0m\u001b[0;34m.\u001b[0m\u001b[0mdefaults\u001b[0m \u001b[0;32mimport\u001b[0m \u001b[0mDefaultPrinting\u001b[0m\u001b[0;34m\u001b[0m\u001b[0;34m\u001b[0m\u001b[0m\n\u001b[0m\u001b[1;32m     31\u001b[0m \u001b[0;32mfrom\u001b[0m \u001b[0msympy\u001b[0m\u001b[0;34m.\u001b[0m\u001b[0mutilities\u001b[0m \u001b[0;32mimport\u001b[0m \u001b[0mpublic\u001b[0m\u001b[0;34m,\u001b[0m \u001b[0msubsets\u001b[0m\u001b[0;34m\u001b[0m\u001b[0;34m\u001b[0m\u001b[0m\n\u001b[1;32m     32\u001b[0m \u001b[0;32mfrom\u001b[0m \u001b[0msympy\u001b[0m\u001b[0;34m.\u001b[0m\u001b[0mutilities\u001b[0m\u001b[0;34m.\u001b[0m\u001b[0miterables\u001b[0m \u001b[0;32mimport\u001b[0m \u001b[0mis_sequence\u001b[0m\u001b[0;34m\u001b[0m\u001b[0;34m\u001b[0m\u001b[0m\n",
            "\u001b[0;32m/usr/local/lib/python3.11/dist-packages/sympy/printing/__init__.py\u001b[0m in \u001b[0;36m<module>\u001b[0;34m\u001b[0m\n\u001b[1;32m     15\u001b[0m \u001b[0;32mfrom\u001b[0m \u001b[0;34m.\u001b[0m\u001b[0mcodeprinter\u001b[0m \u001b[0;32mimport\u001b[0m \u001b[0mccode\u001b[0m\u001b[0;34m,\u001b[0m \u001b[0mfcode\u001b[0m\u001b[0;34m,\u001b[0m \u001b[0mcxxcode\u001b[0m \u001b[0;31m# noqa:F811\u001b[0m\u001b[0;34m\u001b[0m\u001b[0;34m\u001b[0m\u001b[0m\n\u001b[1;32m     16\u001b[0m \u001b[0;34m\u001b[0m\u001b[0m\n\u001b[0;32m---> 17\u001b[0;31m \u001b[0;32mfrom\u001b[0m \u001b[0;34m.\u001b[0m\u001b[0msmtlib\u001b[0m \u001b[0;32mimport\u001b[0m \u001b[0msmtlib_code\u001b[0m\u001b[0;34m\u001b[0m\u001b[0;34m\u001b[0m\u001b[0m\n\u001b[0m\u001b[1;32m     18\u001b[0m \u001b[0;34m\u001b[0m\u001b[0m\n\u001b[1;32m     19\u001b[0m \u001b[0;32mfrom\u001b[0m \u001b[0;34m.\u001b[0m\u001b[0mglsl\u001b[0m \u001b[0;32mimport\u001b[0m \u001b[0mglsl_code\u001b[0m\u001b[0;34m,\u001b[0m \u001b[0mprint_glsl\u001b[0m\u001b[0;34m\u001b[0m\u001b[0;34m\u001b[0m\u001b[0m\n",
            "\u001b[0;32m/usr/local/lib/python3.11/dist-packages/sympy/printing/smtlib.py\u001b[0m in \u001b[0;36m<module>\u001b[0;34m\u001b[0m\n\u001b[1;32m      8\u001b[0m \u001b[0;32mfrom\u001b[0m \u001b[0msympy\u001b[0m\u001b[0;34m.\u001b[0m\u001b[0mfunctions\u001b[0m\u001b[0;34m.\u001b[0m\u001b[0melementary\u001b[0m\u001b[0;34m.\u001b[0m\u001b[0mcomplexes\u001b[0m \u001b[0;32mimport\u001b[0m \u001b[0mAbs\u001b[0m\u001b[0;34m\u001b[0m\u001b[0;34m\u001b[0m\u001b[0m\n\u001b[1;32m      9\u001b[0m \u001b[0;32mfrom\u001b[0m \u001b[0msympy\u001b[0m\u001b[0;34m.\u001b[0m\u001b[0mfunctions\u001b[0m\u001b[0;34m.\u001b[0m\u001b[0melementary\u001b[0m\u001b[0;34m.\u001b[0m\u001b[0mexponential\u001b[0m \u001b[0;32mimport\u001b[0m \u001b[0mexp\u001b[0m\u001b[0;34m,\u001b[0m \u001b[0mlog\u001b[0m\u001b[0;34m,\u001b[0m \u001b[0mPow\u001b[0m\u001b[0;34m\u001b[0m\u001b[0;34m\u001b[0m\u001b[0m\n\u001b[0;32m---> 10\u001b[0;31m \u001b[0;32mfrom\u001b[0m \u001b[0msympy\u001b[0m\u001b[0;34m.\u001b[0m\u001b[0mfunctions\u001b[0m\u001b[0;34m.\u001b[0m\u001b[0melementary\u001b[0m\u001b[0;34m.\u001b[0m\u001b[0mhyperbolic\u001b[0m \u001b[0;32mimport\u001b[0m \u001b[0msinh\u001b[0m\u001b[0;34m,\u001b[0m \u001b[0mcosh\u001b[0m\u001b[0;34m,\u001b[0m \u001b[0mtanh\u001b[0m\u001b[0;34m\u001b[0m\u001b[0;34m\u001b[0m\u001b[0m\n\u001b[0m\u001b[1;32m     11\u001b[0m \u001b[0;32mfrom\u001b[0m \u001b[0msympy\u001b[0m\u001b[0;34m.\u001b[0m\u001b[0mfunctions\u001b[0m\u001b[0;34m.\u001b[0m\u001b[0melementary\u001b[0m\u001b[0;34m.\u001b[0m\u001b[0mmiscellaneous\u001b[0m \u001b[0;32mimport\u001b[0m \u001b[0mMin\u001b[0m\u001b[0;34m,\u001b[0m \u001b[0mMax\u001b[0m\u001b[0;34m\u001b[0m\u001b[0;34m\u001b[0m\u001b[0m\n\u001b[1;32m     12\u001b[0m \u001b[0;32mfrom\u001b[0m \u001b[0msympy\u001b[0m\u001b[0;34m.\u001b[0m\u001b[0mfunctions\u001b[0m\u001b[0;34m.\u001b[0m\u001b[0melementary\u001b[0m\u001b[0;34m.\u001b[0m\u001b[0mpiecewise\u001b[0m \u001b[0;32mimport\u001b[0m \u001b[0mPiecewise\u001b[0m\u001b[0;34m\u001b[0m\u001b[0;34m\u001b[0m\u001b[0m\n",
            "\u001b[0;32m/usr/local/lib/python3.11/dist-packages/sympy/functions/elementary/hyperbolic.py\u001b[0m in \u001b[0;36m<module>\u001b[0;34m\u001b[0m\n\u001b[1;32m     12\u001b[0m \u001b[0;32mfrom\u001b[0m \u001b[0msympy\u001b[0m\u001b[0;34m.\u001b[0m\u001b[0mfunctions\u001b[0m\u001b[0;34m.\u001b[0m\u001b[0melementary\u001b[0m\u001b[0;34m.\u001b[0m\u001b[0mintegers\u001b[0m \u001b[0;32mimport\u001b[0m \u001b[0mfloor\u001b[0m\u001b[0;34m\u001b[0m\u001b[0;34m\u001b[0m\u001b[0m\n\u001b[1;32m     13\u001b[0m \u001b[0;32mfrom\u001b[0m \u001b[0msympy\u001b[0m\u001b[0;34m.\u001b[0m\u001b[0mfunctions\u001b[0m\u001b[0;34m.\u001b[0m\u001b[0melementary\u001b[0m\u001b[0;34m.\u001b[0m\u001b[0mmiscellaneous\u001b[0m \u001b[0;32mimport\u001b[0m \u001b[0msqrt\u001b[0m\u001b[0;34m\u001b[0m\u001b[0;34m\u001b[0m\u001b[0m\n\u001b[0;32m---> 14\u001b[0;31m from sympy.functions.elementary.trigonometric import (\n\u001b[0m\u001b[1;32m     15\u001b[0m     \u001b[0macos\u001b[0m\u001b[0;34m,\u001b[0m \u001b[0macot\u001b[0m\u001b[0;34m,\u001b[0m \u001b[0masin\u001b[0m\u001b[0;34m,\u001b[0m \u001b[0matan\u001b[0m\u001b[0;34m,\u001b[0m \u001b[0mcos\u001b[0m\u001b[0;34m,\u001b[0m \u001b[0mcot\u001b[0m\u001b[0;34m,\u001b[0m \u001b[0mcsc\u001b[0m\u001b[0;34m,\u001b[0m \u001b[0msec\u001b[0m\u001b[0;34m,\u001b[0m \u001b[0msin\u001b[0m\u001b[0;34m,\u001b[0m \u001b[0mtan\u001b[0m\u001b[0;34m,\u001b[0m\u001b[0;34m\u001b[0m\u001b[0;34m\u001b[0m\u001b[0m\n\u001b[1;32m     16\u001b[0m     _imaginary_unit_as_coefficient)\n",
            "\u001b[0;31mKeyboardInterrupt\u001b[0m: "
          ]
        }
      ],
      "source": [
        "from sympy import plot_parametric #importa plot_parametric para graficar curvas parametrizadas"
      ]
    },
    {
      "cell_type": "code",
      "execution_count": null,
      "id": "a75bd4c7",
      "metadata": {
        "id": "a75bd4c7"
      },
      "outputs": [],
      "source": [
        "s=symbols('s') #define una nueva variable"
      ]
    },
    {
      "cell_type": "code",
      "execution_count": null,
      "id": "b1b1f0c8",
      "metadata": {
        "id": "b1b1f0c8"
      },
      "outputs": [],
      "source": [
        "plot_parametric((cos(s)),sin(s)) #grafica una curva parametrizada con lo indicado que representa un circulo"
      ]
    },
    {
      "cell_type": "code",
      "execution_count": null,
      "id": "5ab8a4f0",
      "metadata": {
        "id": "5ab8a4f0"
      },
      "outputs": [],
      "source": [
        "plot_parametric((cos(s),sin(s)),(s,s**2),(s,-4,4)) #dibuja una curva parametrizada con cos y sen en el inyervalo indicado"
      ]
    },
    {
      "cell_type": "code",
      "execution_count": null,
      "id": "aa955b9e",
      "metadata": {
        "id": "aa955b9e"
      },
      "outputs": [],
      "source": [
        "c2[0].line_color='green'#cabia el color de la primer grafica de c2 a verde"
      ]
    },
    {
      "cell_type": "code",
      "execution_count": null,
      "id": "be06e1b1",
      "metadata": {
        "id": "be06e1b1"
      },
      "outputs": [],
      "source": [
        "c2.show() #muestra c2 despuesd e cabiar la linea"
      ]
    },
    {
      "cell_type": "markdown",
      "id": "cca07cb7",
      "metadata": {
        "id": "cca07cb7"
      },
      "source": [
        "### Graficas 3D"
      ]
    },
    {
      "cell_type": "code",
      "execution_count": null,
      "id": "af558339",
      "metadata": {
        "id": "af558339"
      },
      "outputs": [],
      "source": [
        "from sympy.plotting import plot3d #importa la funcion plot3d para genera graficos en 3d"
      ]
    },
    {
      "cell_type": "code",
      "execution_count": null,
      "id": "b8c4346f",
      "metadata": {
        "id": "b8c4346f"
      },
      "outputs": [],
      "source": [
        "x,y=symbols('x y') #crea dos variables"
      ]
    },
    {
      "cell_type": "code",
      "execution_count": null,
      "id": "7bf8b47c",
      "metadata": {
        "id": "7bf8b47c"
      },
      "outputs": [],
      "source": [
        "plot3d(x*y) #grafica la funcion z=xy en 3d"
      ]
    },
    {
      "cell_type": "code",
      "execution_count": null,
      "id": "26b09e08",
      "metadata": {
        "id": "26b09e08"
      },
      "outputs": [],
      "source": [
        "plot3d(x*y, (x,-5,5),(y,-5,5)) #grafica z=xy en los intervalos dados"
      ]
    },
    {
      "cell_type": "code",
      "execution_count": null,
      "id": "1bd8303d",
      "metadata": {
        "id": "1bd8303d"
      },
      "outputs": [],
      "source": [
        "plot3d(x*y, -x*y, (x,-5,5),(y,-5,5)) #grafica dos superficien en 3d una para z=xy y otra z=-xy en los intervalos dados"
      ]
    },
    {
      "cell_type": "code",
      "execution_count": null,
      "id": "bc48dc4f",
      "metadata": {
        "id": "bc48dc4f"
      },
      "outputs": [],
      "source": [
        "plot3d((x**2 + y**2, (x,-5,5),(y,-5,5)),(x*y,(x,-3,3),(y,-3,3))) #grafica dos superficien en diferentes intervalos"
      ]
    },
    {
      "cell_type": "code",
      "execution_count": null,
      "id": "6cdd3777",
      "metadata": {
        "id": "6cdd3777"
      },
      "outputs": [],
      "source": [
        "from sympy.plotting import plot3d_parametric_line #importa plot3d_parametric_line que sirve para graficar lineas parametricas en 3d"
      ]
    },
    {
      "cell_type": "code",
      "execution_count": null,
      "id": "e57589a8",
      "metadata": {
        "id": "e57589a8"
      },
      "outputs": [],
      "source": [
        "plot3d_parametric_line(cos(s),sin(s),s) #dibuja una linea parametrica 3d con lo indicado"
      ]
    },
    {
      "cell_type": "code",
      "execution_count": null,
      "id": "b182c4af",
      "metadata": {
        "id": "b182c4af"
      },
      "outputs": [],
      "source": [
        "plot3d_parametric_line((cos(s),sin(s),s,(s,-5,5)),(sin(s),s**2,s,(s,-5,5))) #dibuja dos lineas parametricas con las ecuaciones dadas"
      ]
    },
    {
      "cell_type": "code",
      "execution_count": null,
      "id": "31185692",
      "metadata": {
        "id": "31185692"
      },
      "outputs": [],
      "source": [
        "from sympy.plotting import plot3d_parametric_surface#"
      ]
    },
    {
      "cell_type": "code",
      "execution_count": null,
      "id": "22e2c1c2",
      "metadata": {
        "id": "22e2c1c2"
      },
      "outputs": [],
      "source": [
        "u, v =symbols('u v')"
      ]
    },
    {
      "cell_type": "code",
      "execution_count": null,
      "id": "c96ce23a",
      "metadata": {
        "id": "c96ce23a"
      },
      "outputs": [],
      "source": [
        "plot3d_parametric_surface(cos(u+v),sin(u-v),u-v)"
      ]
    },
    {
      "cell_type": "code",
      "execution_count": null,
      "id": "406abc70",
      "metadata": {
        "id": "406abc70"
      },
      "outputs": [],
      "source": [
        "plot3d_parametric_surface(cos(v)*cos(u),cos(v)*sin(u),sin(v))"
      ]
    },
    {
      "cell_type": "markdown",
      "id": "4203d6ad",
      "metadata": {
        "id": "4203d6ad"
      },
      "source": [
        "Funciones implícitas"
      ]
    },
    {
      "cell_type": "code",
      "execution_count": null,
      "id": "dfccc5e3",
      "metadata": {
        "id": "dfccc5e3"
      },
      "outputs": [],
      "source": [
        "from sympy import plot_implicit, symbols, Eq, And"
      ]
    },
    {
      "cell_type": "code",
      "execution_count": null,
      "id": "c0d7f8b3",
      "metadata": {
        "id": "c0d7f8b3"
      },
      "outputs": [],
      "source": [
        "x, y = symbols(' x y')"
      ]
    },
    {
      "cell_type": "code",
      "execution_count": null,
      "id": "d9cfb450",
      "metadata": {
        "id": "d9cfb450"
      },
      "outputs": [],
      "source": [
        "p1 = plot_implicit(Eq(x**2 + y**2, 5))"
      ]
    },
    {
      "cell_type": "code",
      "execution_count": null,
      "id": "da52c476",
      "metadata": {
        "id": "da52c476"
      },
      "outputs": [],
      "source": [
        "p6 = plot_implicit(y > x**2)"
      ]
    },
    {
      "cell_type": "code",
      "execution_count": null,
      "id": "a819d003",
      "metadata": {
        "id": "a819d003"
      },
      "outputs": [],
      "source": [
        "p6 = plot_implicit(And(y > x, y > -x))"
      ]
    },
    {
      "cell_type": "code",
      "execution_count": null,
      "id": "45fd20a5",
      "metadata": {
        "id": "45fd20a5"
      },
      "outputs": [],
      "source": []
    }
  ],
  "metadata": {
    "kernelspec": {
      "display_name": "Python 3 (ipykernel)",
      "language": "python",
      "name": "python3"
    },
    "language_info": {
      "codemirror_mode": {
        "name": "ipython",
        "version": 3
      },
      "file_extension": ".py",
      "mimetype": "text/x-python",
      "name": "python",
      "nbconvert_exporter": "python",
      "pygments_lexer": "ipython3",
      "version": "3.7.3"
    },
    "colab": {
      "provenance": []
    }
  },
  "nbformat": 4,
  "nbformat_minor": 5
}
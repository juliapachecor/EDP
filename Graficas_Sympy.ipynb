{
  "cells": [
    {
      "cell_type": "code",
      "execution_count": null,
      "id": "ea3c7cca",
      "metadata": {
        "id": "ea3c7cca"
      },
      "outputs": [],
      "source": [
        "from sympy import *#sympy es una libreria para matematicas simbolicas"
      ]
    },
    {
      "cell_type": "code",
      "execution_count": null,
      "id": "9a809e15",
      "metadata": {
        "id": "9a809e15"
      },
      "outputs": [],
      "source": [
        "x=symbols('x') #crea una variable x que se usara para operaciones"
      ]
    },
    {
      "cell_type": "code",
      "execution_count": null,
      "id": "f013e8e4",
      "metadata": {
        "id": "f013e8e4"
      },
      "outputs": [],
      "source": [
        "c1=plotting.plot(x*x)#utiliza plotting.plot para generar una grafica de x^2, el resultado se guarda en c1"
      ]
    },
    {
      "cell_type": "code",
      "execution_count": null,
      "id": "681a546b",
      "metadata": {
        "id": "681a546b"
      },
      "outputs": [],
      "source": [
        "cl=plotting.plot(x*x,show=False)#se generan dos graficos uno de x^2 y otro en x^3, en show=False nos dice que ambos graficos no se dmuetran de inmediato\n",
        "c2=plotting.plot(x**3,show=False)"
      ]
    },
    {
      "cell_type": "code",
      "execution_count": null,
      "id": "826d2156",
      "metadata": {
        "id": "826d2156"
      },
      "outputs": [],
      "source": [
        "c1 #Indica qué es y en qué espacio de memoria está"
      ]
    },
    {
      "cell_type": "code",
      "execution_count": null,
      "id": "c52a5b46",
      "metadata": {
        "id": "c52a5b46"
      },
      "outputs": [],
      "source": [
        "c1.append(c2[0]) #Anida las gráficas sin los ejes"
      ]
    },
    {
      "cell_type": "code",
      "execution_count": null,
      "id": "f23f0783",
      "metadata": {
        "id": "f23f0783"
      },
      "outputs": [],
      "source": [
        "c1#muestra el contenido de la grafica de x2 junto con la de x3 de c2"
      ]
    },
    {
      "cell_type": "code",
      "execution_count": null,
      "id": "c13d8b05",
      "metadata": {
        "id": "c13d8b05"
      },
      "outputs": [],
      "source": [
        "c1.show()#muestra el grafico combinado"
      ]
    },
    {
      "cell_type": "code",
      "execution_count": null,
      "id": "135bfd2d",
      "metadata": {
        "id": "135bfd2d"
      },
      "outputs": [],
      "source": [
        "c1.extend(c2)#se añaden los elementos de c2 a c1, lo que hace que ambos graficos esten en el mismo objet"
      ]
    },
    {
      "cell_type": "code",
      "execution_count": null,
      "id": "56418d41",
      "metadata": {
        "id": "56418d41"
      },
      "outputs": [],
      "source": [
        "c1.show()#muestra los graficpos despues de haber extendido c1 con c2"
      ]
    },
    {
      "cell_type": "code",
      "execution_count": null,
      "id": "3a25a53b",
      "metadata": {
        "id": "3a25a53b"
      },
      "outputs": [],
      "source": [
        "c2.show()#muestra el grafico en c2"
      ]
    },
    {
      "cell_type": "code",
      "execution_count": null,
      "id": "ad2995f2",
      "metadata": {
        "id": "ad2995f2"
      },
      "outputs": [],
      "source": [
        "from sympy.plotting import plot #importa funcion plot desde sympy.plotting que se usa para generar graficos"
      ]
    },
    {
      "cell_type": "code",
      "execution_count": null,
      "id": "4d9c7160",
      "metadata": {
        "id": "4d9c7160"
      },
      "outputs": [],
      "source": [
        "plot(x**2) #dibuja el grafico de x2"
      ]
    },
    {
      "cell_type": "code",
      "execution_count": null,
      "id": "cac91b1d",
      "metadata": {
        "id": "cac91b1d"
      },
      "outputs": [],
      "source": [
        "plot(x**2,(x,-1,1)) #grafica x2 en el intervalo indicado"
      ]
    },
    {
      "cell_type": "code",
      "execution_count": null,
      "id": "12aaf4ee",
      "metadata": {
        "id": "12aaf4ee"
      },
      "outputs": [],
      "source": [
        "plot(exp(x))\n",
        "#plot(exp(x),(x,0,2)) #grafica ex en el intervalo indicado en el comentario"
      ]
    },
    {
      "cell_type": "code",
      "execution_count": null,
      "id": "a679a5ba",
      "metadata": {
        "id": "a679a5ba"
      },
      "outputs": [],
      "source": [
        "plot(x,x**2,x**3, (x,-2,2)) #grafica las funciones x,x2,x3 en el intervalo indicado"
      ]
    },
    {
      "cell_type": "code",
      "execution_count": null,
      "id": "b2425f84",
      "metadata": {
        "id": "b2425f84"
      },
      "outputs": [],
      "source": [
        "plot(x**2,adaptative=False,nb_of_points=10) #grafica x2 utilizando un numero limitado de puntos(10) y sin adaptividad en el calculo"
      ]
    },
    {
      "cell_type": "markdown",
      "id": "9ce41f8e",
      "metadata": {
        "id": "9ce41f8e"
      },
      "source": [
        "### Curvas parametrizadas"
      ]
    },
    {
      "cell_type": "code",
      "execution_count": null,
      "id": "9dcc8951",
      "metadata": {
        "id": "9dcc8951"
      },
      "outputs": [],
      "source": [
        "from sympy import plot_parametric #importa plot_parametric para graficar curvas parametrizadas"
      ]
    },
    {
      "cell_type": "code",
      "execution_count": null,
      "id": "a75bd4c7",
      "metadata": {
        "id": "a75bd4c7"
      },
      "outputs": [],
      "source": [
        "s=symbols('s') #define una nueva variable"
      ]
    },
    {
      "cell_type": "code",
      "execution_count": null,
      "id": "b1b1f0c8",
      "metadata": {
        "id": "b1b1f0c8"
      },
      "outputs": [],
      "source": [
        "plot_parametric((cos(s)),sin(s)) #grafica una curva parametrizada con lo indicado que representa un circulo"
      ]
    },
    {
      "cell_type": "code",
      "execution_count": null,
      "id": "5ab8a4f0",
      "metadata": {
        "id": "5ab8a4f0"
      },
      "outputs": [],
      "source": [
        "plot_parametric((cos(s),sin(s)),(s,s**2),(s,-4,4)) #dibuja una curva parametrizada con cos y sen en el inyervalo indicado"
      ]
    },
    {
      "cell_type": "code",
      "execution_count": null,
      "id": "aa955b9e",
      "metadata": {
        "id": "aa955b9e"
      },
      "outputs": [],
      "source": [
        "c2[0].line_color='green'#cabia el color de la primer grafica de c2 a verde"
      ]
    },
    {
      "cell_type": "code",
      "execution_count": null,
      "id": "be06e1b1",
      "metadata": {
        "id": "be06e1b1"
      },
      "outputs": [],
      "source": [
        "c2.show() #muestra c2 despuesd e cabiar la linea"
      ]
    },
    {
      "cell_type": "markdown",
      "id": "cca07cb7",
      "metadata": {
        "id": "cca07cb7"
      },
      "source": [
        "### Graficas 3D"
      ]
    },
    {
      "cell_type": "code",
      "execution_count": null,
      "id": "af558339",
      "metadata": {
        "id": "af558339"
      },
      "outputs": [],
      "source": [
        "from sympy.plotting import plot3d #importa la funcion plot3d para genera graficos en 3d"
      ]
    },
    {
      "cell_type": "code",
      "execution_count": null,
      "id": "b8c4346f",
      "metadata": {
        "id": "b8c4346f"
      },
      "outputs": [],
      "source": [
        "x,y=symbols('x y') #crea dos variables"
      ]
    },
    {
      "cell_type": "code",
      "execution_count": null,
      "id": "7bf8b47c",
      "metadata": {
        "id": "7bf8b47c"
      },
      "outputs": [],
      "source": [
        "plot3d(x*y) #grafica la funcion z=xy en 3d"
      ]
    },
    {
      "cell_type": "code",
      "execution_count": null,
      "id": "26b09e08",
      "metadata": {
        "id": "26b09e08"
      },
      "outputs": [],
      "source": [
        "plot3d(x*y, (x,-5,5),(y,-5,5)) #grafica z=xy en los intervalos dados"
      ]
    },
    {
      "cell_type": "code",
      "execution_count": null,
      "id": "1bd8303d",
      "metadata": {
        "id": "1bd8303d"
      },
      "outputs": [],
      "source": [
        "plot3d(x*y, -x*y, (x,-5,5),(y,-5,5)) #grafica dos superficien en 3d una para z=xy y otra z=-xy en los intervalos dados"
      ]
    },
    {
      "cell_type": "code",
      "execution_count": null,
      "id": "bc48dc4f",
      "metadata": {
        "id": "bc48dc4f"
      },
      "outputs": [],
      "source": [
        "plot3d((x**2 + y**2, (x,-5,5),(y,-5,5)),(x*y,(x,-3,3),(y,-3,3))) #grafica dos superficien en diferentes intervalos"
      ]
    },
    {
      "cell_type": "code",
      "execution_count": null,
      "id": "6cdd3777",
      "metadata": {
        "id": "6cdd3777"
      },
      "outputs": [],
      "source": [
        "from sympy.plotting import plot3d_parametric_line #importa plot3d_parametric_line que sirve para graficar lineas parametricas en 3d"
      ]
    },
    {
      "cell_type": "code",
      "execution_count": null,
      "id": "e57589a8",
      "metadata": {
        "id": "e57589a8"
      },
      "outputs": [],
      "source": [
        "plot3d_parametric_line(cos(s),sin(s),s) #dibuja una linea parametrica 3d con lo indicado"
      ]
    },
    {
      "cell_type": "code",
      "execution_count": null,
      "id": "b182c4af",
      "metadata": {
        "id": "b182c4af"
      },
      "outputs": [],
      "source": [
        "plot3d_parametric_line((cos(s),sin(s),s,(s,-5,5)),(sin(s),s**2,s,(s,-5,5))) #dibuja dos lineas parametricas con las ecuaciones dadas"
      ]
    },
    {
      "cell_type": "code",
      "execution_count": null,
      "id": "31185692",
      "metadata": {
        "id": "31185692"
      },
      "outputs": [],
      "source": [
        "from sympy.plotting import plot3d_parametric_surface #importa plot3d_parametric_line que sirve para graficar superficies parametricas en 3d"
      ]
    },
    {
      "cell_type": "code",
      "execution_count": null,
      "id": "22e2c1c2",
      "metadata": {
        "id": "22e2c1c2"
      },
      "outputs": [],
      "source": [
        "u, v =symbols('u v') #define dos nuevas variables"
      ]
    },
    {
      "cell_type": "code",
      "execution_count": null,
      "id": "c96ce23a",
      "metadata": {
        "id": "c96ce23a"
      },
      "outputs": [],
      "source": [
        "plot3d_parametric_surface(cos(u+v),sin(u-v),u-v) #dibuja una superficie parametrica 3d con las ecuaciones dadas"
      ]
    },
    {
      "cell_type": "code",
      "execution_count": null,
      "id": "406abc70",
      "metadata": {
        "id": "406abc70"
      },
      "outputs": [],
      "source": [
        "plot3d_parametric_surface(cos(v)*cos(u),cos(v)*sin(u),sin(v)) #grafica una superficie parametrica 3d en funcion de u y v representando una esfera"
      ]
    },
    {
      "cell_type": "markdown",
      "id": "4203d6ad",
      "metadata": {
        "id": "4203d6ad"
      },
      "source": [
        "Funciones implícitas"
      ]
    },
    {
      "cell_type": "code",
      "execution_count": null,
      "id": "dfccc5e3",
      "metadata": {
        "id": "dfccc5e3"
      },
      "outputs": [],
      "source": [
        "from sympy import plot_implicit, symbols, Eq, And #importa las funciones necesarias para graficar ecuaciones implicitas"
      ]
    },
    {
      "cell_type": "code",
      "execution_count": null,
      "id": "c0d7f8b3",
      "metadata": {
        "id": "c0d7f8b3"
      },
      "outputs": [],
      "source": [
        "x, y = symbols(' x y') #crea dos variables"
      ]
    },
    {
      "cell_type": "code",
      "execution_count": null,
      "id": "d9cfb450",
      "metadata": {
        "id": "d9cfb450"
      },
      "outputs": [],
      "source": [
        "p1 = plot_implicit(Eq(x**2 + y**2, 5)) #grafica la ecuacion implicita x2+y2=5 que representa un circulo"
      ]
    },
    {
      "cell_type": "code",
      "execution_count": null,
      "id": "da52c476",
      "metadata": {
        "id": "da52c476"
      },
      "outputs": [],
      "source": [
        "p6 = plot_implicit(y > x**2) #grafica la ec implicita definida por la desigualdad y>x2"
      ]
    },
    {
      "cell_type": "code",
      "execution_count": null,
      "id": "a819d003",
      "metadata": {
        "id": "a819d003"
      },
      "outputs": [],
      "source": [
        "p6 = plot_implicit(And(y > x, y > -x)) #grafica la rfegion definida por y>x, y>-x lo que crea una region triangular"
      ]
    },
    {
      "cell_type": "code",
      "execution_count": null,
      "id": "45fd20a5",
      "metadata": {
        "id": "45fd20a5"
      },
      "outputs": [],
      "source": []
    },
    {
      "cell_type": "markdown",
      "source": [
        "T=x3-xy+y3"
      ],
      "metadata": {
        "id": "VeRIdHwO061y"
      },
      "id": "VeRIdHwO061y"
    },
    {
      "cell_type": "code",
      "source": [
        "from sympy.plotting import plot3d"
      ],
      "metadata": {
        "id": "XBEqXWYf2mCS"
      },
      "id": "XBEqXWYf2mCS",
      "execution_count": null,
      "outputs": []
    },
    {
      "cell_type": "code",
      "source": [
        "x,y=symbols('x,y')"
      ],
      "metadata": {
        "id": "qiSbXGJv26wT"
      },
      "id": "qiSbXGJv26wT",
      "execution_count": null,
      "outputs": []
    },
    {
      "cell_type": "code",
      "source": [
        "plot3d(x**3-xy+y**3)"
      ],
      "metadata": {
        "id": "5Y0oUf423C8b"
      },
      "id": "5Y0oUf423C8b",
      "execution_count": null,
      "outputs": []
    },
    {
      "cell_type": "code",
      "source": [],
      "metadata": {
        "id": "GK5oqYnx3XST"
      },
      "id": "GK5oqYnx3XST",
      "execution_count": null,
      "outputs": []
    }
  ],
  "metadata": {
    "kernelspec": {
      "display_name": "Python 3 (ipykernel)",
      "language": "python",
      "name": "python3"
    },
    "language_info": {
      "codemirror_mode": {
        "name": "ipython",
        "version": 3
      },
      "file_extension": ".py",
      "mimetype": "text/x-python",
      "name": "python",
      "nbconvert_exporter": "python",
      "pygments_lexer": "ipython3",
      "version": "3.7.3"
    },
    "colab": {
      "provenance": []
    }
  },
  "nbformat": 4,
  "nbformat_minor": 5
}
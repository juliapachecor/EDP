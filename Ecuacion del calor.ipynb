{
  "cells": [
    {
      "cell_type": "markdown",
      "metadata": {
        "id": "bkuH2TtZ1Gxo"
      },
      "source": [
        "# Análisis de una solución de la ecuación del calor"
      ]
    },
    {
      "cell_type": "markdown",
      "metadata": {
        "id": "w8N1Z3Xb1Gxr"
      },
      "source": [
        "La solución de la ecuación\n",
        "$$\\frac{\\partial u}{\\partial t} = \\frac{\\partial^2 u}{\\partial x^2}$$\n",
        "sujeta a las condiciones de frontera:\n",
        "$$u(0,t)=u(1,t)=0, \\;\\;\\; t>0$$\n",
        "Y la condición inicial:\n",
        "$$u(x,0)=x,\\;\\;\\;0<x<1$$\n",
        "Esta dada en términos de la serie de Fourier por la expresión:\n",
        "$$u(x,t)=\\frac{2}{\\pi}\\sum_{n=1}^{\\infty} \\frac{(-1)^{n+1}}{n}  \\sin(n\\pi x)e^{-(n\\pi)^2 t}.$$"
      ]
    },
    {
      "cell_type": "markdown",
      "metadata": {
        "id": "arRFaMoz1Gxr"
      },
      "source": [
        "Este problema modela la transferencia de calor en una barra ideal delgada, con $k=1$."
      ]
    },
    {
      "cell_type": "code",
      "execution_count": null,
      "metadata": {
        "id": "NyPTqP6h1Gxs"
      },
      "outputs": [],
      "source": [
        "from pylab import # Importamos las funciones de matplotlib y numpy"
      ]
    },
    {
      "cell_type": "markdown",
      "metadata": {
        "id": "aek-T-Xz1Gxt"
      },
      "source": [
        "Para empezar, graficamos la condición inicial."
      ]
    },
    {
      "cell_type": "code",
      "execution_count": null,
      "metadata": {
        "id": "9_zztqhG1Gxt"
      },
      "outputs": [],
      "source": [
        "def recta(x): # Definimos una función para graficar la condición inicial\n",
        "    y = zeros(len(x)) # Inicializamos un arreglo de ceros del mismo tamaño que x\n",
        "    for i in range(len(x)):\n",
        "        y[i] = x[i] # Asignamos a cada elemento de y el valor correspondiente de x\n",
        "    return y # Retornamos el arreglo resultante"
      ]
    },
    {
      "cell_type": "code",
      "execution_count": null,
      "metadata": {
        "id": "xPG1oU_r1Gxu"
      },
      "outputs": [],
      "source": [
        "x = linspace(0,1,1000) # Creamos un conjunto de 1000 puntos equiespaciados entre 0 y 1\n",
        "f = recta(x) # Evaluamos la función recta en x\n",
        "plot(x,f,label='$u(x,0)=x$') # Graficamos la condición inicial\n",
        "plt.xlabel('$x$'); plt.ylabel('$f(x)$');   # Etiquetas de los ejes\n",
        "plt.title(\"Condición inicial (u(x,0)=f(x))\") # Título de la gráfica\n",
        "xlim([-0.01,1.01]),ylim([-0.01,1.01]),grid(),legend() # Configuración de límites y leyenda\n",
        "show() # Mostramos la gráfica"
      ]
    },
    {
      "cell_type": "markdown",
      "metadata": {
        "id": "5hUFpFHJ1Gxu"
      },
      "source": [
        "Usamos una serie de Fourier para aproximar la condición inicial $u(x,0)=f(x)=x$."
      ]
    },
    {
      "cell_type": "code",
      "execution_count": null,
      "metadata": {
        "id": "CbPnPO3o1Gxv"
      },
      "outputs": [],
      "source": [
        "def u_0(x,N=20): # N es el número de armónicos\n",
        "    f = zeros(len(x)) # Inicializamos un arreglo de ceros\n",
        "    for n in range(1,N): # Sumamos los términos de la serie de Fourier\n",
        "        f += (-1)**(n+1)*sin(n*pi*x)/(n) # Términos de la serie\n",
        "    return (2.0/pi)*f # Multiplicamos por el factor de normalización\n"
      ]
    },
    {
      "cell_type": "code",
      "execution_count": null,
      "metadata": {
        "id": "qCPFOxLl1Gxv"
      },
      "outputs": [],
      "source": [
        "f_n = u_0(x)  # Calculamos la aproximación con N=20\n",
        "plot(x,f_n,label='$f_N(x)$ con $N=20$') # # Graficamos la aproximación\n",
        "plot(x,f,label='$f(x)=x$') # Graficamos la función original\n",
        "plt.xlabel('$x$'); plt.ylabel('$f(x)$'); # Etiquetas de los ejes\n",
        "plt.title(\"Aproximación de la condición inicial\") # Título de la gráfica\n",
        "xlim([-0.01,1.1]),ylim([-0.01,1.2]),grid(),legend() # Configuración de límites y leyenda\n",
        "show() # Mostramos la gráfica"
      ]
    },
    {
      "cell_type": "markdown",
      "metadata": {
        "id": "Jw-WH7S-1Gxv"
      },
      "source": [
        "Podemos visualizar la aproximación para diferentes cantidades de armónicos."
      ]
    },
    {
      "cell_type": "code",
      "execution_count": null,
      "metadata": {
        "id": "MIVx9otA1Gxw"
      },
      "outputs": [],
      "source": [
        "for i in range(1,20,5):# Probamos valores de N en incrementos de 5\n",
        "    plot(x,u_0(x,i),label='$f_N(x)$ con $N=%d$' %i)# Graficamos la aproximación\n",
        "plt.xlabel('$x$'); plt.ylabel('$f(x)$'); # Etiquetas de los ejes\n",
        "plt.title(\"Aproximación de la condición inicial\") # Título de la gráfica\n",
        "xlim([-0.01,1.01]),ylim([-0.01,1.2]),grid(),legend()# Configuración de límites y leyenda\n",
        "show()# Mostramos la gráfica"
      ]
    },
    {
      "cell_type": "markdown",
      "metadata": {
        "id": "zC8plO-J1Gxw"
      },
      "source": [
        "Ahora, agregamos la parte temporal para visualizar la solución completa. Primero, para el momento inicial, $t=0$."
      ]
    },
    {
      "cell_type": "code",
      "execution_count": null,
      "metadata": {
        "id": "DX8FUtXM1Gxx"
      },
      "outputs": [],
      "source": [
        "def u_x_t(x,t,N=50): # N es el número de armónicos\n",
        "    f = zeros( (len(x),len(t)) ) # Inicializamos una matriz de ceros\n",
        "    for i in range(len(t)):# Iteramos sobre el tiempo\n",
        "        for n in range(1,N):# Iteramos sobre los armónicos\n",
        "            f[:,i] += (-1)**(n+1)*sin(n*pi*x)/(n)*exp(-n**2*pi**2*t[i])# Serie de Fourier con decaimiento exponencial\n",
        "    return (2.0/pi)*f# Multiplicamos por el factor de normalización"
      ]
    },
    {
      "cell_type": "code",
      "execution_count": null,
      "metadata": {
        "id": "Psd8CLjP1Gxx"
      },
      "outputs": [],
      "source": [
        "x = linspace(0,1,1000) # Definimos la malla espacial\n",
        "t = linspace(0,10,1000)# Definimos la malla temporal\n",
        "U = u_x_t(x,t) # Calculamos la solución en cada punto"
      ]
    },
    {
      "cell_type": "code",
      "execution_count": null,
      "metadata": {
        "id": "ZUB-H27X1Gxx"
      },
      "outputs": [],
      "source": [
        "plot(x,U[:,0],label='$u(x,0)$') # Graficamos la condición inicial\n",
        "plt.xlabel('$x$'); plt.ylabel('$f(x)$'); # Etiquetas de los ejes\n",
        "plt.title(\"Aproximación de la condición inicial\") # Título de la gráfica\n",
        "xlim([-0.01,1.01]),ylim([-0.01,1.2]),grid(),legend()# Configuración de límites y leyenda\n",
        "show()  # Mostramos la gráfica"
      ]
    },
    {
      "cell_type": "markdown",
      "metadata": {
        "id": "Ky673IUZ1Gxy"
      },
      "source": [
        "Luego, para diferentes tiempos, lo cual nos permite ver cómo la solución evoluciona cuando $t \\to \\infty$."
      ]
    },
    {
      "cell_type": "code",
      "execution_count": null,
      "metadata": {
        "id": "NbbPsPsN1Gxy"
      },
      "outputs": [],
      "source": [
        "plot(x,U[:,0],label='$u(x,t=0)$') # Tiempo inicial\n",
        "plot(x,U[:,1],label='$u(x,t=1)$') # Tiempo t=1\n",
        "plot(x,U[:,2],label='$u(x,t=2)$') # Tiempo t=2\n",
        "plot(x,U[:,3],label='$u(x,t=3)$')# Tiempo t=3\n",
        "plot(x,U[:,10],label='$u(x,t=10)$') # Tiempo t=10\n",
        "plot(x,U[:,20],label='$u(x,t=20)$')# Tiempo t=20\n",
        "plt.xlabel('$x$'); plt.ylabel('$u(x,t)$'); # Etiquetas de los ejes\n",
        "plt.title(\"Evolución de la solución\")# Título de la gráfica\n",
        "xlim([-0.01,1.01]),ylim([-0.01,1.2]),grid(),legend()# Configuración de límites y leyenda\n",
        "show()"
      ]
    },
    {
      "cell_type": "markdown",
      "metadata": {
        "id": "TmHY6qoW1Gxy"
      },
      "source": [
        "Y podemos ver esto en una gráfica en 3D."
      ]
    },
    {
      "cell_type": "code",
      "execution_count": null,
      "metadata": {
        "id": "gEJtfDr71Gxy"
      },
      "outputs": [],
      "source": [
        "#%matplotlib notebook\n",
        "from mpl_toolkits.mplot3d import Axes3D# Importamos herramientas 3D\n",
        "\n",
        "fig = plt.figure(figsize=(12,10))# Creamos una figura con tamaño personalizado\n",
        "ax = fig.add_subplot(111, projection=\"3d\") # Agregamos un subplot 3D\n",
        "\n",
        "x = linspace(0,1.0,100)# Definimos la malla espacial\n",
        "t = linspace(0,1.0,100) # Definimos la malla temporal\n",
        "\n",
        "X,T = np.meshgrid(x,t)# Creamos una malla 2D con los valores de x y t\n",
        "\n",
        "U = u_x_t(x,t)  # Calculamos la solución U(x,t)\n",
        "\n",
        "plt.xlabel('$t$'); plt.ylabel('$x$'); # Etiquetas de los ejes\n",
        "plt.title(\"u(x,t)\")\n",
        "ax.plot_surface(X, T, U, cmap=\"inferno\"); #Otros colores:\"viridis\", \"inferno\", \"plasma\""
      ]
    },
    {
      "cell_type": "code",
      "execution_count": null,
      "metadata": {
        "id": "JwrbOwVY1Gxz"
      },
      "outputs": [],
      "source": []
    }
  ],
  "metadata": {
    "kernelspec": {
      "display_name": "Python 3 (ipykernel)",
      "language": "python",
      "name": "python3"
    },
    "language_info": {
      "codemirror_mode": {
        "name": "ipython",
        "version": 3
      },
      "file_extension": ".py",
      "mimetype": "text/x-python",
      "name": "python",
      "nbconvert_exporter": "python",
      "pygments_lexer": "ipython3",
      "version": "3.7.3"
    },
    "colab": {
      "provenance": []
    }
  },
  "nbformat": 4,
  "nbformat_minor": 0
}